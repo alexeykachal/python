{
 "cells": [
  {
   "cell_type": "markdown",
   "id": "8009e6cd",
   "metadata": {},
   "source": [
    "Дана функция f(x) = (sin(x)/2 + cos(x)/2)^2 * sin(x)"
   ]
  },
  {
   "cell_type": "code",
   "execution_count": 12,
   "id": "1804366b",
   "metadata": {},
   "outputs": [],
   "source": [
    "from sympy import *\n",
    "from sympy.abc import x"
   ]
  },
  {
   "cell_type": "markdown",
   "id": "c1eec8a9",
   "metadata": {},
   "source": [
    "1. Определить корни"
   ]
  },
  {
   "cell_type": "code",
   "execution_count": 15,
   "id": "e44aae06",
   "metadata": {},
   "outputs": [
    {
     "data": {
      "text/latex": [
       "$\\displaystyle \\left\\{2 n \\pi\\; \\middle|\\; n \\in \\mathbb{Z}\\right\\} \\cup \\left\\{2 n \\pi + \\pi\\; \\middle|\\; n \\in \\mathbb{Z}\\right\\} \\cup \\left\\{2 n \\pi + \\frac{3 \\pi}{4}\\; \\middle|\\; n \\in \\mathbb{Z}\\right\\} \\cup \\left\\{2 n \\pi + \\frac{7 \\pi}{4}\\; \\middle|\\; n \\in \\mathbb{Z}\\right\\}$"
      ],
      "text/plain": [
       "Union(ImageSet(Lambda(_n, 2*_n*pi + 3*pi/4), Integers), ImageSet(Lambda(_n, 2*_n*pi + 7*pi/4), Integers), ImageSet(Lambda(_n, 2*_n*pi + pi), Integers), ImageSet(Lambda(_n, 2*_n*pi), Integers))"
      ]
     },
     "execution_count": 15,
     "metadata": {},
     "output_type": "execute_result"
    }
   ],
   "source": [
    "f = ((sin(x)/2 + cos(x)/2)**2) * sin(x)\n",
    "solution = solveset(f, x)\n",
    "solution"
   ]
  },
  {
   "cell_type": "markdown",
   "id": "767b7189",
   "metadata": {},
   "source": [
    "2. Найти интервалы, на которых функция возрастает"
   ]
  },
  {
   "cell_type": "code",
   "execution_count": null,
   "id": "01fc2ac7",
   "metadata": {},
   "outputs": [],
   "source": [
    "#для себя разберу позже, нужен еще теоретический элемент повторить"
   ]
  },
  {
   "cell_type": "markdown",
   "id": "45e3e36b",
   "metadata": {},
   "source": [
    "3. Найти интервалы, на которых функция убывает"
   ]
  },
  {
   "cell_type": "code",
   "execution_count": null,
   "id": "082776f9",
   "metadata": {},
   "outputs": [],
   "source": [
    "#для себя разберу позже, нужен еще теоретический элемент повторить"
   ]
  },
  {
   "cell_type": "markdown",
   "id": "803a787a",
   "metadata": {},
   "source": [
    "4. Построить График"
   ]
  },
  {
   "cell_type": "code",
   "execution_count": 18,
   "id": "401f36bd",
   "metadata": {},
   "outputs": [
    {
     "data": {
      "image/png": "[encoded data removed]",
      "text/plain": [
       "<Figure size 432x288 with 1 Axes>"
      ]
     },
     "metadata": {
      "needs_background": "light"
     },
     "output_type": "display_data"
    }
   ],
   "source": [
    "z = plot(f, (x, 0, 2*pi))\n",
    "#не повторяющийся элемент графика\n"
   ]
  },
  {
   "cell_type": "markdown",
   "id": "ece7f095",
   "metadata": {},
   "source": [
    "5. Вычислить вершину"
   ]
  },
  {
   "cell_type": "code",
   "execution_count": 25,
   "id": "d1f7d623",
   "metadata": {},
   "outputs": [
    {
     "name": "stdout",
     "output_type": "stream",
     "text": [
      "x-координата atan(1/tan(atan(sqrt(17)/8 + 9/8)/2))\n",
      "y-координата (1/(2*sqrt(1 + tan(atan(sqrt(17)/8 + 9/8)/2)**(-2))) + 1/(2*sqrt(1 + tan(atan(sqrt(17)/8 + 9/8)/2)**(-2))*tan(atan(sqrt(17)/8 + 9/8)/2)))**2/(sqrt(1 + tan(atan(sqrt(17)/8 + 9/8)/2)**(-2))*tan(atan(sqrt(17)/8 + 9/8)/2))\n"
     ]
    }
   ],
   "source": [
    "max_min = solveset(diff(f,x),x, domain = Interval(0,2*pi))\n",
    "max_min = list(max_min)\n",
    "y_arr = []\n",
    "x_arr = []\n",
    "for i in range(0, len(max_min)):\n",
    "    x_arr.append(simplify(max_min[i]))\n",
    "    y_arr.append(f.subs(x,simplify(max_min[i])))\n",
    "max_y_index = y_arr.index(max(y_arr))\n",
    "print(f'x-координата {x_arr[max_y_index]}')\n",
    "print(f'y-координата {y_arr[max_y_index]}')\n",
    "#вычисляется в рамках не повторяющегося элемента графика"
   ]
  },
  {
   "cell_type": "markdown",
   "id": "fb08f744",
   "metadata": {},
   "source": [
    "6. Определить промежутки, на котором f > 0"
   ]
  },
  {
   "cell_type": "code",
   "execution_count": 27,
   "id": "d88f4b45",
   "metadata": {},
   "outputs": [
    {
     "data": {
      "text/latex": [
       "$\\displaystyle \\left(0, \\frac{3 \\pi}{4}\\right) \\cup \\left(\\frac{3 \\pi}{4}, \\pi\\right)$"
      ],
      "text/plain": [
       "Union(Interval.open(0, 3*pi/4), Interval.open(3*pi/4, pi))"
      ]
     },
     "execution_count": 27,
     "metadata": {},
     "output_type": "execute_result"
    }
   ],
   "source": [
    "solve_univariate_inequality(f > 0,x,relational=False,domain=Interval(0,2*pi))"
   ]
  },
  {
   "cell_type": "markdown",
   "id": "40f92e27",
   "metadata": {},
   "source": [
    "7. Определить промежутки, на котором f < 0"
   ]
  },
  {
   "cell_type": "code",
   "execution_count": 33,
   "id": "967e2250",
   "metadata": {},
   "outputs": [
    {
     "data": {
      "text/latex": [
       "$\\displaystyle \\left(\\pi, \\frac{7 \\pi}{4}\\right) \\cup \\left(\\frac{7 \\pi}{4}, 2 \\pi\\right)$"
      ],
      "text/plain": [
       "Union(Interval.open(pi, 7*pi/4), Interval.open(7*pi/4, 2*pi))"
      ]
     },
     "execution_count": 33,
     "metadata": {},
     "output_type": "execute_result"
    }
   ],
   "source": [
    "solve_univariate_inequality(f < 0,x,relational=False,domain=Interval(0,2*pi))"
   ]
  },
  {
   "cell_type": "code",
   "execution_count": null,
   "id": "46cd37a6",
   "metadata": {},
   "outputs": [],
   "source": []
  }
 ],
 "metadata": {
  "kernelspec": {
   "display_name": "Python 3 (ipykernel)",
   "language": "python",
   "name": "python3"
  },
  "language_info": {
   "codemirror_mode": {
    "name": "ipython",
    "version": 3
   },
   "file_extension": ".py",
   "mimetype": "text/x-python",
   "name": "python",
   "nbconvert_exporter": "python",
   "pygments_lexer": "ipython3",
   "version": "3.9.12"
  }
 },
 "nbformat": 4,
 "nbformat_minor": 5
}
